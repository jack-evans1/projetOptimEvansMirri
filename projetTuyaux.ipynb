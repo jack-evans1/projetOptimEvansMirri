{
 "cells": [
  {
   "cell_type": "markdown",
   "id": "0247bdd9",
   "metadata": {},
   "source": [
    "Stella MIRRI,  Jack EVANS\n",
    "# Mini projet 1 :   Rangement d’un tuyau de jardin"
   ]
  },
  {
   "cell_type": "markdown",
   "id": "27ca55f7",
   "metadata": {},
   "source": [
    "## 1) Etude du probleme d'optimisation\n",
    "\n",
    "1. Interpréter le cout $(4)$. Que cherche-t-on a minimiser?"
   ]
  },
  {
   "cell_type": "markdown",
   "id": "817fe628",
   "metadata": {},
   "source": [
    "***\n",
    "**REPONSE**\n",
    "\n",
    "On cherche a minimiser : \n",
    "- d'une part   $(x_N-\\frac{L}{2})^2$   pour faire avoir   $x_N=\\frac{L}{2}$   ou plutôt avoir une valeur *suffisamment proche* pour faire l'approximation en pratique (d'où le $K$ grand pour donner plus de poids a ce terme).\n",
    "- d'autre part   $ds\\sum{|y_i|}=\\frac{L}{N}\\sum{|y_i|}$   pour que le tuyau soit le \"plus proche possible\" de l'axe des abscisses $y=0$ (faire 2 dessins)\n",
    "\n",
    "\n",
    "***"
   ]
  },
  {
   "cell_type": "markdown",
   "id": "dd234615",
   "metadata": {},
   "source": [
    "2. Pourquoi n’a-t-on pas plutôt imposé la contrainte $x_N = \\frac{L}{2}$ ? (Indice : on pourra considérer la valeur initiale qu’il faudrait alors fournir au solveur pour la résolution numérique d’un tel problème.)"
   ]
  },
  {
   "cell_type": "markdown",
   "id": "7f087853",
   "metadata": {},
   "source": [
    "***\n",
    "**REPONSE**\n",
    "\n",
    "\n",
    "***"
   ]
  },
  {
   "cell_type": "markdown",
   "id": "e3e8ac0b",
   "metadata": {},
   "source": [
    "3. Quelle difficulté peut présenter le coût $(4)$ numériquement ?"
   ]
  },
  {
   "cell_type": "markdown",
   "id": "dbe129c0",
   "metadata": {},
   "source": [
    "***\n",
    "**REPONSE**\n",
    "\n",
    "\n",
    "***"
   ]
  },
  {
   "cell_type": "markdown",
   "id": "fc6318c9",
   "metadata": {},
   "source": [
    "4. Justifier que minimiser $(4)$ est équivalent à minimiser\n",
    "$$K(x_N − \\frac{L}{2})^2+ ds\\sum{wi}$$\n",
    "t.q. $wi ≥ yi$ et $wi ≥ −yi , i = 0, . . . , N (5)$\n",
    "où $wi (i = 0, . . . , N )$ sont de nouvelles variables scalaires. Quel est l’avantage de cette réécriture ? On la retiendra pour la suite du sujet."
   ]
  },
  {
   "cell_type": "markdown",
   "id": "503b704a",
   "metadata": {},
   "source": [
    "***\n",
    "**REPONSE**\n",
    "\n",
    "\n",
    "***"
   ]
  },
  {
   "cell_type": "markdown",
   "id": "6807dea4",
   "metadata": {},
   "source": [
    "5. Formuler le problème d’optimisation à résoudre sous la forme\n",
    "$$min_{(c_{eq}(z)=0 , \\ c_{ineq}(z)≤0)} f(z) \\qquad (6)$$\n",
    "On précisera les variables de décision $z$, leur nombre $n$, les contraintes $ceq$ et $cineq$ ainsi que la fonction objectif $f$ à minimiser"
   ]
  },
  {
   "cell_type": "markdown",
   "id": "3f0425d5",
   "metadata": {},
   "source": [
    "***\n",
    "**REPONSE**\n",
    "\n",
    "\n",
    "***"
   ]
  }
 ],
 "metadata": {
  "language_info": {
   "name": "python"
  }
 },
 "nbformat": 4,
 "nbformat_minor": 5
}
