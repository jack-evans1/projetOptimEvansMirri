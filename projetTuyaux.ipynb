{
 "cells": [
  {
   "cell_type": "code",
   "execution_count": 1,
   "id": "b45cdb63",
   "metadata": {},
   "outputs": [],
   "source": [
    "import numpy as np\n",
    "from scipy import optimize\n",
    "from casadi import *\n",
    "import matplotlib.pyplot as plt"
   ]
  },
  {
   "cell_type": "markdown",
   "id": "0247bdd9",
   "metadata": {},
   "source": [
    "Stella MIRRI,  Jack EVANS\n",
    "# PROJET 1 :   Rangement d’un tuyau de jardin\n",
    "\n",
    "***"
   ]
  },
  {
   "cell_type": "markdown",
   "id": "3ae9d366",
   "metadata": {},
   "source": [
    " On modélise la position du tuyau comme une courbe de longueur L dans le plan. On représente cette\n",
    " courbe par $N+1$ points $$(xi, yi) \\qquad (i = 0, ... N)$$ uniformément espacés d’une longueur $ds = \\frac{L}{N}$. \n",
    " \n",
    " En introduisant l’angle $\\theta_i$ de la courbe avec l’origine au point $(xi,\\ yi)$, on obtient\n",
    " $$x_{i+1}- xi =ds \\ cos \\theta_i$$\n",
    " $$y_{i+1}- yi =ds \\ sin \\theta_i$$\n",
    " $$\\qquad (i=0,... N) \\qquad(1)$$\n",
    " où les variations de $\\theta_i$ sont limitées, du fait de la courbure maximale $\\alpha > 0$ du tuyau, via la condition\n",
    " $$\\theta_{i+1}-\\theta_i \\in [ - \\alpha ds, \\alpha ds] \\qquad (2)$$\n",
    "\n",
    " On suppose que le robinet d’eau est situé au point $(0,\\ 1)$ tandis que le parterre de fleur doit être arrosé\n",
    " au point $(\\frac{L}{2},\\ 0)$ et l’on impose\n",
    " $$x_0 = \\theta_0 =y_N = \\theta_{N-1}=0 \\qquad y_0=1 \\qquad (3)$$\n",
    " On cherche alors à minimiser la fonction\n",
    "$$K(x_N-\\frac{L}{2})^2 + ds\\sum_{i=0}^N{|y_i|} \\qquad (4)$$\n",
    " où $K \\gg ds$ est un paramètre constant."
   ]
  },
  {
   "cell_type": "markdown",
   "id": "27ca55f7",
   "metadata": {},
   "source": [
    "## 1) Etude du problème d'optimisation"
   ]
  },
  {
   "cell_type": "markdown",
   "id": "cb74ecdf",
   "metadata": {},
   "source": [
    "\n",
    "1. Interpréter le cout $(4)$. Que cherche-t-on a minimiser?"
   ]
  },
  {
   "cell_type": "markdown",
   "id": "817fe628",
   "metadata": {},
   "source": [
    "***\n",
    "**REPONSE**\n",
    "\n",
    "On cherche a minimiser : \n",
    "- d'une part   $(x_N-\\frac{L}{2})^2$   pour faire avoir   $x_N=\\frac{L}{2}$   ou plutôt avoir une valeur *suffisamment proche* pour faire l'approximation en pratique (d'où le $K$ grand pour donner plus de poids a ce terme).\n",
    "- d'autre part   $ds\\sum_{i=0}^N{|y_i|}=\\frac{L}{N}\\sum_{i=0}^N{|y_i|}$   pour que le tuyau soit le \"plus proche possible\" de l'axe des abscisses $y=0$ (faire 2 dessins)\n",
    "***"
   ]
  },
  {
   "cell_type": "markdown",
   "id": "dd234615",
   "metadata": {},
   "source": [
    "2. Pourquoi n’a-t-on pas plutôt imposé la contrainte $x_N = \\frac{L}{2}$ ? (Indice : on pourra considérer la valeur initiale qu’il faudrait alors fournir au solveur pour la résolution numérique d’un tel problème.)"
   ]
  },
  {
   "cell_type": "markdown",
   "id": "7f087853",
   "metadata": {},
   "source": [
    "***\n",
    "**REPONSE**\n",
    "\n",
    "\n",
    "***"
   ]
  },
  {
   "cell_type": "markdown",
   "id": "e3e8ac0b",
   "metadata": {},
   "source": [
    "3. Quelle difficulté peut présenter le coût $(4)$ numériquement ?"
   ]
  },
  {
   "cell_type": "markdown",
   "id": "dbe129c0",
   "metadata": {},
   "source": [
    "***\n",
    "**REPONSE**\n",
    "\n",
    "La valeur absolue n'est pas différenciable en $0$, et a priori les $y_i$ sont proches de $y=0$ donc on sera limité.es dans le choix d'algorithme\n",
    "***"
   ]
  },
  {
   "cell_type": "markdown",
   "id": "fc6318c9",
   "metadata": {},
   "source": [
    "4. Justifier que minimiser $(4)$ est équivalent à minimiser\n",
    "$$K(x_N − \\frac{L}{2})^2+ ds\\sum{w_i}$$\n",
    "t.q. $w_i \\geq y_i$ et $w_i \\geq −y_i , i = 0, . . . , N (5)$\n",
    "où $w_i (i = 0, . . . , N )$ sont de nouvelles variables scalaires. Quel est l’avantage de cette réécriture ? On la retiendra pour la suite du sujet."
   ]
  },
  {
   "cell_type": "markdown",
   "id": "503b704a",
   "metadata": {},
   "source": [
    "***\n",
    "**REPONSE**\n",
    "\n",
    "On a :\n",
    "\n",
    "***"
   ]
  },
  {
   "cell_type": "markdown",
   "id": "6807dea4",
   "metadata": {},
   "source": [
    "5. Formuler le problème d’optimisation à résoudre sous la forme\n",
    "$$min_{(c_{eq}(z)=0 , \\ c_{ineq}(z) \\leq 0)} f(z) \\qquad (6)$$\n",
    "On précisera les variables de décision $z$, leur nombre $n$, les contraintes $c_{eq}$ et $c_{ineq}$ ainsi que la fonction objectif $f$ à minimiser"
   ]
  },
  {
   "cell_type": "markdown",
   "id": "3f0425d5",
   "metadata": {},
   "source": [
    "***\n",
    "**REPONSE**\n",
    "\n",
    "On pose\n",
    "$$f(z) = K(x_N − \\frac{L}{2})^2+ ds\\sum_{i=0}^N{w_i}$$\n",
    "Ou $z = (x_0,...x_N,y_0,...,y_N,\\theta_0,...,\\theta_{N-1},w_0,...,w_N)$ contient $n=4N+3$ variables\n",
    "\n",
    "Les contraintes d'égalité sont :\n",
    "\n",
    "- aux extrémités : \n",
    "$$c_{eq,1}(z) = x_0, \\qquad c_{eq,2}(z) = y_0-1 \\qquad c_{eq,3}(z) = \\theta_0, \\qquad c_{eq,4}(z) = \\theta_{N-1}, \\qquad c_{eq,5}(z) = y_N$$\n",
    "- et le long du tuyau :\n",
    "$$c_{eq,6,i}(z) = x_{i+1}-x_i - ds\\ cos\\theta_i, \\qquad c_{eq,7,i}(z) = y_{i+1}-y_i - ds\\ sin\\theta_i, \\qquad i=0,...,N-1$$\n",
    "\n",
    "Les contraintes d'inégalité sont :\n",
    "$$c_{ineq,1,i}(z) = y_i-w_i, \\qquad c_{ineq,2,i}(z) = -y_i-w_i \\qquad i=0,...,N$$\n",
    "$$c_{ineq,3,i}(z) = -\\alpha ds -(\\theta_{i+1}-\\theta_i), \\qquad c_{ineq,4,i}(z) = -\\alpha ds +(\\theta_{i+1}-\\theta_i), \\qquad i=0,...,N-2$$\n",
    "***"
   ]
  },
  {
   "cell_type": "markdown",
   "id": "4df57a1f",
   "metadata": {},
   "source": [
    "## 2) Etude et résolution numériques"
   ]
  },
  {
   "cell_type": "markdown",
   "id": "6cc610a4",
   "metadata": {},
   "source": [
    "6.  Quelles méthodes de résolution peuvent être envisagées pour ce problème?"
   ]
  },
  {
   "cell_type": "markdown",
   "id": "e5faab30",
   "metadata": {},
   "source": [
    "***\n",
    "**REPONSE**\n",
    "\n",
    "On peut utiliser une méthode de programmation quadratique séquentielle, adaptée aux problèmes d'optimisation sous contraintes.\n",
    "Pour cela, la méthode slsqp de optimize.minimize de la librairie scipy.optimize.\n",
    "***"
   ]
  },
  {
   "cell_type": "markdown",
   "id": "bfeb5ee9",
   "metadata": {},
   "source": [
    "7.  Développer un algorithme de résolution pour les valeurs numériques suivantes :\n",
    "\n",
    " $\\qquad L=10, N=50, K=1 $ et $ \\alpha=1 \\qquad (7)$\n",
    "\n",
    " en utilisant comme courbe initiale la droite reliant le point $(1, \\ 0)$ à un point de l’axe des abscisses."
   ]
  },
  {
   "cell_type": "markdown",
   "id": "d38a4726",
   "metadata": {},
   "source": [
    "***\n",
    "**REPONSE**\n",
    "\n",
    "\n",
    "***"
   ]
  },
  {
   "cell_type": "code",
   "execution_count": 2,
   "id": "88429de8",
   "metadata": {},
   "outputs": [
    {
     "data": {
      "image/png": "[encoded data removed]",
      "text/plain": [
       "<Figure size 640x480 with 1 Axes>"
      ]
     },
     "metadata": {},
     "output_type": "display_data"
    }
   ],
   "source": [
    "K = 1\n",
    "N = 50\n",
    "L = 10\n",
    "ds = L/N\n",
    "alpha = 1\n",
    "\n",
    "\n",
    "\n",
    "x0 = np.zeros(N+1)\n",
    "y0 = np.zeros(N+1)\n",
    "\n",
    "y0[0] = 1\n",
    "y0[N] = 0\n",
    "x0[0] = 0\n",
    "x0[N] = np.sqrt((L-2*ds)**2 -1) + 2*ds\n",
    "x0[1:N] = np.linspace(ds, np.sqrt((L-2*ds)**2 -1) + ds, N-1)\n",
    "y0[1:N] = np.linspace(1, 0, N-1)\n",
    "\n",
    "theta0 = np.zeros(N)\n",
    "theta0[0] = 0\n",
    "theta0[-1] = 0\n",
    "for i in range(1, N-1):\n",
    "    theta0[i] = -np.arcsin(1 / (L - 2*ds))\n",
    "\n",
    "\n",
    "# x0 = np.linspace(0, np.sqrt(L**2 -1), N+1)\n",
    "# y0 = np.linspace(1, 0, N+1)\n",
    "\n",
    "z0 = np.concatenate([x0, y0, np.abs(y0), theta0])\n",
    "\n",
    "def f(z):\n",
    "    s = 0\n",
    "    theta = z[3*(N+1):]\n",
    "    x = z[:N+1]\n",
    "    y = z[N+1 : 2*(N+1)]\n",
    "    w = z[2*(N+1):3*(N+1)]\n",
    "    for i in range(N+1):\n",
    "        s+= w[i]\n",
    "    return K*(x[N]-L/2)**2 + ds*s\n",
    "\n",
    "\n",
    "def c1e(z) :\n",
    "    theta = z[3*(N+1):]\n",
    "    x = z[:(N+1)]\n",
    "    return x[0]\n",
    "def c2e(z) :\n",
    "    theta = z[3*(N+1):]\n",
    "    y = z[(N+1):2*(N+1)]\n",
    "    return y[0] - 1\n",
    "def c3e(z):\n",
    "    theta = z[3*(N+1):]\n",
    "    return theta[0]\n",
    "def c4e(z):\n",
    "    theta = z[3*(N+1):]\n",
    "    return theta[N-1]\n",
    "def c5e(z):\n",
    "    theta = z[3*(N+1):]\n",
    "    y = z[(N+1):2*(N+1)]\n",
    "    return y[N] \n",
    "def c6e(z):\n",
    "    theta = z[3*(N+1):]\n",
    "    x = z[:(N+1)]\n",
    "    cond = []\n",
    "    for i in range(N):\n",
    "        cond.append(x[i+1] - (x[i] + ds * np.cos(theta[i])))\n",
    "    return cond\n",
    "def c7e(z):\n",
    "    theta = z[3*(N+1):]\n",
    "    y = z[(N+1):2*(N+1)]\n",
    "    cond = []\n",
    "    for i in range(N):\n",
    "        cond.append(y[i+1] - (y[i] + ds * np.sin(theta[i])))\n",
    "    return cond\n",
    "        \n",
    "\n",
    "\n",
    "def ci_theta(z): #contrainte sur les angles theta\n",
    "    theta = z[3*(N+1) :]\n",
    "    contrainte = []\n",
    "    for i in range(N-1):\n",
    "        cond = alpha*ds - (theta[i+1] - theta[i])\n",
    "        cond2 = alpha*ds + (theta[i+1] - theta[i])\n",
    "        contrainte.append(cond)\n",
    "        contrainte.append(cond2)\n",
    "    return contrainte\n",
    "def c1i(z):\n",
    "    theta = z[3*(N+1):]\n",
    "    y = z[(N+1):2*(N+1)]\n",
    "    w = z[2*(N+1):3*(N+1)]\n",
    "    return -(-w + y)\n",
    "def c2i(z):\n",
    "    theta = z[3*(N+1):]\n",
    "    y = z[(N+1):2*(N+1)]\n",
    "    w = z[2*(N+1):3*(N+1)]\n",
    "    return (y + w)\n",
    "\n",
    "\n",
    "z = optimize.minimize(f, z0, method='SLSQP',\n",
    "                         constraints= [{\"type\": \"ineq\", \"fun\":c1i}, {\"type\": \"ineq\", \"fun\":c2i}, {\"type\": \"ineq\", \"fun\":ci_theta}, {\"type\": \"eq\", \"fun\":c1e}, {\"type\": \"eq\", \"fun\":c2e}, {\"type\": \"eq\", \"fun\":c3e}, {\"type\": \"eq\", \"fun\":c4e}, {\"type\": \"eq\", \"fun\":c5e}, {\"type\": \"eq\", \"fun\":c6e} , {\"type\": \"eq\", \"fun\":c7e}])\n",
    "#print(z)\n",
    "\n",
    "z_opt = z.x\n",
    "x_opt = z_opt[:N+1]\n",
    "y_opt = z_opt[N+1 : 2*(N+1)]\n",
    "\n",
    "plt.plot(x0, y0, label='courbe initiale')\n",
    "plt.plot(x_opt, y_opt, label='courbe optimisée')\n",
    "plt.legend()\n",
    "plt.axis('equal')\n",
    "plt.grid(True)\n",
    "plt.title(\"Optimisation du tuyau de jardin\")\n",
    "plt.show()\n"
   ]
  },
  {
   "cell_type": "markdown",
   "id": "ff742fc6",
   "metadata": {},
   "source": [
    "8. *Effet de* $K$. Reprendre les simulations avec $K = 5$ et $K = 10$. Comment les résultats obtenus et\n",
    "conclure sur l’effet de ce paramètre."
   ]
  },
  {
   "cell_type": "markdown",
   "id": "9fd822fa",
   "metadata": {},
   "source": [
    "***\n",
    "**REPONSE**\n",
    "\n",
    "\n",
    "***"
   ]
  },
  {
   "cell_type": "code",
   "execution_count": 3,
   "id": "000b35f9",
   "metadata": {},
   "outputs": [
    {
     "data": {
      "image/png": "[encoded data removed]",
      "text/plain": [
       "<Figure size 640x480 with 1 Axes>"
      ]
     },
     "metadata": {},
     "output_type": "display_data"
    }
   ],
   "source": [
    "K = 5\n",
    "N = 50\n",
    "L = 10\n",
    "ds = L/N\n",
    "alpha = 1\n",
    "\n",
    "\n",
    "\n",
    "x0 = np.zeros(N+1)\n",
    "y0 = np.zeros(N+1)\n",
    "\n",
    "y0[0] = 1\n",
    "y0[N] = 0\n",
    "x0[0] = 0\n",
    "x0[N] = np.sqrt((L-2*ds)**2 -1) + 2*ds\n",
    "x0[1:N] = np.linspace(ds, np.sqrt((L-2*ds)**2 -1) + ds, N-1)\n",
    "y0[1:N] = np.linspace(1, 0, N-1)\n",
    "\n",
    "theta0 = np.zeros(N)\n",
    "theta0[0] = 0\n",
    "theta0[-1] = 0\n",
    "for i in range(1, N-1):\n",
    "    theta0[i] = -np.arcsin(1 / (L - 2*ds))\n",
    "\n",
    "\n",
    "# x0 = np.linspace(0, np.sqrt(L**2 -1), N+1)\n",
    "# y0 = np.linspace(1, 0, N+1)\n",
    "\n",
    "z0 = np.concatenate([x0, y0, np.abs(y0), theta0])\n",
    "\n",
    "def f(z):\n",
    "    s = 0\n",
    "    theta = z[3*(N+1):]\n",
    "    x = z[:N+1]\n",
    "    y = z[N+1 : 2*(N+1)]\n",
    "    w = z[2*(N+1):3*(N+1)]\n",
    "    for i in range(N+1):\n",
    "        s+= w[i]\n",
    "    return K*(x[N]-L/2)**2 + ds*s\n",
    "\n",
    "\n",
    "def c1e(z) :\n",
    "    theta = z[3*(N+1):]\n",
    "    x = z[:(N+1)]\n",
    "    return x[0]\n",
    "def c2e(z) :\n",
    "    theta = z[3*(N+1):]\n",
    "    y = z[(N+1):2*(N+1)]\n",
    "    return y[0] - 1\n",
    "def c3e(z):\n",
    "    theta = z[3*(N+1):]\n",
    "    return theta[0]\n",
    "def c4e(z):\n",
    "    theta = z[3*(N+1):]\n",
    "    return theta[N-1]\n",
    "def c5e(z):\n",
    "    theta = z[3*(N+1):]\n",
    "    y = z[(N+1):2*(N+1)]\n",
    "    return y[N] \n",
    "def c6e(z):\n",
    "    theta = z[3*(N+1):]\n",
    "    x = z[:(N+1)]\n",
    "    cond = []\n",
    "    for i in range(N):\n",
    "        cond.append(x[i+1] - (x[i] + ds * np.cos(theta[i])))\n",
    "    return cond\n",
    "def c7e(z):\n",
    "    theta = z[3*(N+1):]\n",
    "    y = z[(N+1):2*(N+1)]\n",
    "    cond = []\n",
    "    for i in range(N):\n",
    "        cond.append(y[i+1] - (y[i] + ds * np.sin(theta[i])))\n",
    "    return cond\n",
    "        \n",
    "\n",
    "\n",
    "def ci_theta(z): #contrainte sur les angles theta\n",
    "    theta = z[3*(N+1) :]\n",
    "    contrainte = []\n",
    "    for i in range(N-1):\n",
    "        cond = alpha*ds - (theta[i+1] - theta[i])\n",
    "        cond2 = alpha*ds + (theta[i+1] - theta[i])\n",
    "        contrainte.append(cond)\n",
    "        contrainte.append(cond2)\n",
    "    return contrainte\n",
    "def c1i(z):\n",
    "    theta = z[3*(N+1):]\n",
    "    y = z[(N+1):2*(N+1)]\n",
    "    w = z[2*(N+1):3*(N+1)]\n",
    "    return -(-w + y)\n",
    "def c2i(z):\n",
    "    theta = z[3*(N+1):]\n",
    "    y = z[(N+1):2*(N+1)]\n",
    "    w = z[2*(N+1):3*(N+1)]\n",
    "    return (y + w)\n",
    "\n",
    "\n",
    "z = optimize.minimize(f, z0, method='SLSQP',\n",
    "                         constraints= [{\"type\": \"ineq\", \"fun\":c1i}, {\"type\": \"ineq\", \"fun\":c2i}, {\"type\": \"ineq\", \"fun\":ci_theta}, {\"type\": \"eq\", \"fun\":c1e}, {\"type\": \"eq\", \"fun\":c2e}, {\"type\": \"eq\", \"fun\":c3e}, {\"type\": \"eq\", \"fun\":c4e}, {\"type\": \"eq\", \"fun\":c5e}, {\"type\": \"eq\", \"fun\":c6e} , {\"type\": \"eq\", \"fun\":c7e}])\n",
    "#print(z)\n",
    "\n",
    "z_opt = z.x\n",
    "x_opt = z_opt[:N+1]\n",
    "y_opt = z_opt[N+1 : 2*(N+1)]\n",
    "\n",
    "plt.plot(x0, y0, label='courbe initiale')\n",
    "plt.plot(x_opt, y_opt, label='courbe optimisée')\n",
    "plt.legend()\n",
    "plt.axis('equal')\n",
    "plt.grid(True)\n",
    "plt.title(\"Optimisation du tuyau de jardin\")\n",
    "plt.show()\n"
   ]
  },
  {
   "cell_type": "code",
   "execution_count": null,
   "id": "f0f7d827",
   "metadata": {},
   "outputs": [
    {
     "data": {
      "image/png": "[encoded data removed]",
      "text/plain": [
       "<Figure size 640x480 with 1 Axes>"
      ]
     },
     "metadata": {},
     "output_type": "display_data"
    }
   ],
   "source": [
    "K = 10\n",
    "N = 50\n",
    "L = 10\n",
    "ds = L/N\n",
    "alpha = 1\n",
    "\n",
    "\n",
    "\n",
    "x0 = np.zeros(N+1)\n",
    "y0 = np.zeros(N+1)\n",
    "\n",
    "y0[0] = 1\n",
    "y0[N] = 0\n",
    "x0[0] = 0\n",
    "x0[N] = np.sqrt((L-2*ds)**2 -1) + 2*ds\n",
    "x0[1:N] = np.linspace(ds, np.sqrt((L-2*ds)**2 -1) + ds, N-1)\n",
    "y0[1:N] = np.linspace(1, 0, N-1)\n",
    "\n",
    "theta0 = np.zeros(N)\n",
    "theta0[0] = 0\n",
    "theta0[-1] = 0\n",
    "for i in range(1, N-1):\n",
    "    theta0[i] = -np.arcsin(1 / (L - 2*ds))\n",
    "\n",
    "\n",
    "# x0 = np.linspace(0, np.sqrt(L**2 -1), N+1)\n",
    "# y0 = np.linspace(1, 0, N+1)\n",
    "\n",
    "z0 = np.concatenate([x0, y0, np.abs(y0), theta0])\n",
    "\n",
    "def f(z):\n",
    "    s = 0\n",
    "    theta = z[3*(N+1):]\n",
    "    x = z[:N+1]\n",
    "    y = z[N+1 : 2*(N+1)]\n",
    "    w = z[2*(N+1):3*(N+1)]\n",
    "    for i in range(N+1):\n",
    "        s+= w[i]\n",
    "    return K*(x[N]-L/2)**2 + ds*s\n",
    "\n",
    "\n",
    "def c1e(z) :\n",
    "    theta = z[3*(N+1):]\n",
    "    x = z[:(N+1)]\n",
    "    return x[0]\n",
    "def c2e(z) :\n",
    "    theta = z[3*(N+1):]\n",
    "    y = z[(N+1):2*(N+1)]\n",
    "    return y[0] - 1\n",
    "def c3e(z):\n",
    "    theta = z[3*(N+1):]\n",
    "    return theta[0]\n",
    "def c4e(z):\n",
    "    theta = z[3*(N+1):]\n",
    "    return theta[N-1]\n",
    "def c5e(z):\n",
    "    theta = z[3*(N+1):]\n",
    "    y = z[(N+1):2*(N+1)]\n",
    "    return y[N] \n",
    "def c6e(z):\n",
    "    theta = z[3*(N+1):]\n",
    "    x = z[:(N+1)]\n",
    "    cond = []\n",
    "    for i in range(N):\n",
    "        cond.append(x[i+1] - (x[i] + ds * np.cos(theta[i])))\n",
    "    return cond\n",
    "def c7e(z):\n",
    "    theta = z[3*(N+1):]\n",
    "    y = z[(N+1):2*(N+1)]\n",
    "    cond = []\n",
    "    for i in range(N):\n",
    "        cond.append(y[i+1] - (y[i] + ds * np.sin(theta[i])))\n",
    "    return cond\n",
    "        \n",
    "\n",
    "\n",
    "def ci_theta(z): #contrainte sur les angles theta\n",
    "    theta = z[3*(N+1) :]\n",
    "    contrainte = []\n",
    "    for i in range(N-1):\n",
    "        cond = alpha*ds - (theta[i+1] - theta[i])\n",
    "        cond2 = alpha*ds + (theta[i+1] - theta[i])\n",
    "        contrainte.append(cond)\n",
    "        contrainte.append(cond2)\n",
    "    return contrainte\n",
    "def c1i(z):\n",
    "    theta = z[3*(N+1):]\n",
    "    y = z[(N+1):2*(N+1)]\n",
    "    w = z[2*(N+1):3*(N+1)]\n",
    "    return -(-w + y)\n",
    "def c2i(z):\n",
    "    theta = z[3*(N+1):]\n",
    "    y = z[(N+1):2*(N+1)]\n",
    "    w = z[2*(N+1):3*(N+1)]\n",
    "    return (y + w)\n",
    "\n",
    "\n",
    "z = optimize.minimize(f, z0, method='SLSQP',\n",
    "                         constraints= [{\"type\": \"ineq\", \"fun\":c1i}, {\"type\": \"ineq\", \"fun\":c2i}, {\"type\": \"ineq\", \"fun\":ci_theta}, {\"type\": \"eq\", \"fun\":c1e}, {\"type\": \"eq\", \"fun\":c2e}, {\"type\": \"eq\", \"fun\":c3e}, {\"type\": \"eq\", \"fun\":c4e}, {\"type\": \"eq\", \"fun\":c5e}, {\"type\": \"eq\", \"fun\":c6e} , {\"type\": \"eq\", \"fun\":c7e}])\n",
    "#print(z)\n",
    "\n",
    "z_opt = z.x\n",
    "x_opt = z_opt[:N+1]\n",
    "y_opt = z_opt[N+1 : 2*(N+1)]\n",
    "\n",
    "plt.plot(x0, y0, label='courbe initiale')\n",
    "plt.plot(x_opt, y_opt, label='courbe optimisée')\n",
    "plt.legend()\n",
    "plt.axis('equal')\n",
    "plt.grid(True)\n",
    "plt.title(\"Optimisation du tuyau de jardin\")\n",
    "plt.show()\n"
   ]
  },
  {
   "cell_type": "markdown",
   "id": "ed2ff5a3",
   "metadata": {},
   "source": [
    "Le paramètre K agit comme une pondération de $$(x_N − \\frac{L}{2})^2$$ dans l'expression de f.\n",
    "Or f doit répondre à deux exigences : \n",
    "- minimiser $$K(x_N − \\frac{L}{2})^2$$ qui correspond à minimiser la distance finale entre x et L/2, lieu du parterre de fleur, et \n",
    "- minimiser $$ds\\sum_{i=0}^N{w_i}$$ qui correspond à un facteur près à la valeur moyenne des ordonnées. \n",
    "\n",
    "Ainsi, en augmentant K, on donne plus de poids à la première condition et ainsi, le $x_N$ de notre courbe optimisée se rapporche de plus en plus de L/2 à mesure qu'on augmente K, comme observé sur nos courbes (quitte à avoir une courbe moins centrée autour de x=0)"
   ]
  },
  {
   "cell_type": "markdown",
   "id": "d56a0f6f",
   "metadata": {},
   "source": [
    "9. *Effet de* $N$. Pour $K = 10$, comparer les résultats de la question précédente à ceux obtenus pour\n",
    "$N =70$ et $N =90$. Comparer également la valeur du terme $ds^2 \\sum_{i=0}^N{w_i}$ à l’optimum dans chaque cas et interpréter."
   ]
  },
  {
   "cell_type": "markdown",
   "id": "e63eafcd",
   "metadata": {},
   "source": [
    "***\n",
    "**REPONSE**\n",
    "\n",
    "\n",
    "***"
   ]
  },
  {
   "cell_type": "markdown",
   "id": "a980e18b",
   "metadata": {},
   "source": [
    "10. Choix de la valeur initiale. On considère la nouvelle valeur initiale représentée ci-contre. Préciser quelle est la valeur de $\\beta$ qui permet de satisfaire toutes les contraintes du problème. Pour $N =50$ et $K =10$, comparer les résultats obtenus avec cette condition initiale aux précédents.\n",
    "Quelle est la caractéristique du problème qui explique les résultats obtenus? A quoi est-elle due?"
   ]
  },
  {
   "attachments": {
    "graphequestion10reference.png": {
     "image/png": "[encoded data removed]"
    }
   },
   "cell_type": "markdown",
   "id": "818e3fe7",
   "metadata": {},
   "source": [
    "![graphequestion10reference.png](attachment:graphequestion10reference.png)"
   ]
  },
  {
   "cell_type": "markdown",
   "id": "a35f6025",
   "metadata": {},
   "source": [
    "***\n",
    "**REPONSE**\n",
    "\n",
    "Si $r_1 = \\frac{1}{\\alpha}$ et $r_2= \\frac{1}{\\beta}$ sont les rayons des arcs de cercle, on a besoin d'une longueur totale $L = \\pi r_1+1+\\pi r_2$ donc\n",
    "$$\\beta = \\frac{\\alpha \\ \\pi}{\\alpha (L-1)- \\pi}$$\n",
    "\n",
    "Il faut egalement verifier que $| \\theta_i| \\leq \\alpha \\ ds$\n",
    "***"
   ]
  },
  {
   "cell_type": "markdown",
   "id": "4a3022b1",
   "metadata": {},
   "source": [
    "***\n",
    "**REPONSE FAUSSE (j'avais r compris)**\n",
    "\n",
    "On note  d'abord qu'il faut $\\theta_0 = \\theta_{N-1} = 0$.\n",
    "On prendra donc des petits arcs de cercle de rayon $r_1 = \\frac{1}{\\alpha}-ds$\n",
    "\n",
    "On a défini $L = \\frac{1}{\\alpha}+ \\frac{1}{\\beta}$ donc\n",
    "$$ds = \\frac{1}{\\alpha N}+ \\frac{1}{\\beta N}$$\n",
    "\n",
    "- La premiere condition sur $ds$ est : \"Il faut un nombre entier de points entre $(0,\\ 1)$ et $(\\frac{1}{\\alpha},\\ 1- \\frac{1}{\\alpha})$ \"\n",
    "\n",
    "\n",
    "Pour un polygone régulier on a : \n",
    "$$r_1 = \\frac{ds}{2\\ sin(\\frac{\\pi}{N_1})}$$\n",
    "Ou $r_1$ est le rayon du polygone, $ds$ la taille d'un coté et $N_1$ est le nombre de sommets du polygone.\n",
    "\n",
    "Ici, on impose $N_1=4k_1$, ou $k_1 \\in \\mathbb{N}$ puisqu'on travaille sur un quart de cercle.\n",
    "\n",
    "La premiere condition s'ecrit : \n",
    "$$ \\exists k_1 \\in \\mathbb{N}, \\quad ds = 2\\ r_1\\ sin(\\frac{\\pi}{4k_1}) \\qquad (C_1)$$\n",
    "\n",
    "- La deuxieme condition sur $ds$ est : \"Il faut un nombre entier de points entre $(\\frac{1}{\\alpha},\\ 1- \\frac{1}{\\alpha})$ et $(\\frac{1}{\\alpha},\\ \\frac{1}{\\alpha})$ \"\n",
    "\n",
    "Ce qui s'ecrit :\n",
    "$$ \\exists k_2 \\in \\mathbb{N}, \\quad ds = \\frac{1}{k_2} \\qquad (C_2)$$\n",
    "\n",
    "***"
   ]
  },
  {
   "cell_type": "code",
   "execution_count": null,
   "id": "d36ce601",
   "metadata": {},
   "outputs": [],
   "source": [
    "N = 50\n",
    "K = 10\n",
    "alpha = 1\n",
    "L = 20\n",
    "\n",
    "beta = alpha/(alpha*L-1)\n",
    "ds = L/N\n",
    "\n",
    "M = [np.array([0,1])]\n",
    "dist1 = np.pi/2*1/alpha\n",
    "\n",
    "curve1 = [np.cos(range()),np.sin()]"
   ]
  },
  {
   "cell_type": "markdown",
   "id": "f44a1b10",
   "metadata": {},
   "source": [
    "## 3) Ajout d'obstacles"
   ]
  },
  {
   "cell_type": "markdown",
   "id": "0d157ffc",
   "metadata": {},
   "source": [
    "On considère maintenant le fait que le tuyau ne peut traverser d’autres parterres de fleur circulaires situés à proximité du tuyau, afin de ne pas les abîmer. Pour $N_P$ parterres, ceci se traduit par la condition \n",
    "$$(x-x_{P,j})^2 +(y-y_{P,j})^2 \\geq R_j^2, \\qquad j =1,..., N_P \\qquad (8)$$"
   ]
  },
  {
   "cell_type": "markdown",
   "id": "820ac3f6",
   "metadata": {},
   "source": [
    "11. Ajouter cette contrainte au problème nominal. Modifie-t-elle la caractéristique identifiée à la question précédente?"
   ]
  },
  {
   "cell_type": "markdown",
   "id": "7ad60026",
   "metadata": {},
   "source": [
    "***\n",
    "**REPONSE**\n",
    "\n",
    "\n",
    "***"
   ]
  },
  {
   "cell_type": "markdown",
   "id": "bc423dc8",
   "metadata": {},
   "source": [
    "12.  Reprendre les simulations de la question 10 avec les valeurs $(x_{P1},\\ y_{P1}) = (2,\\ 1), (x_{P2},\\ y_{P2}) = (3,\\ 1) et $R1 = R2 =05$. Commenter."
   ]
  },
  {
   "cell_type": "markdown",
   "id": "8ca44c5e",
   "metadata": {},
   "source": [
    "***\n",
    "**REPONSE**\n",
    "\n",
    "\n",
    "***"
   ]
  },
  {
   "cell_type": "markdown",
   "id": "cf793940",
   "metadata": {},
   "source": [
    "## 4) Minimum global"
   ]
  },
  {
   "cell_type": "markdown",
   "id": "74d9658d",
   "metadata": {},
   "source": [
    "On se propose de mettre en place une génération aléatoire de conditions initiales. Pour ce faire, on modifie la fonction objectif comme suit\n",
    "$$K_1(x_N - \\frac{L}{2})^2+K_2y_N^2 +ds \\sum_{i=0}^N{w_i} \\qquad (9)$$\n",
    "\n",
    "où $K_1, K_2 \\gg 1$ sont de grands paramètres constants, et où l’on ne considère plus la contrainte $y_N = 0$.\n"
   ]
  },
  {
   "cell_type": "markdown",
   "id": "6bf5a586",
   "metadata": {},
   "source": [
    "13. Justifier ce choix."
   ]
  },
  {
   "cell_type": "markdown",
   "id": "7cc9dc3a",
   "metadata": {},
   "source": [
    "***\n",
    "**REPONSE**\n",
    "\n",
    "\n",
    "***"
   ]
  },
  {
   "cell_type": "markdown",
   "id": "e8a71ffb",
   "metadata": {},
   "source": [
    "14. Proposer un algorithme visant à obtenir le minimum global de cette fonction, en générant des conditions initiales aléatoires mais satisfaisant les contraintes et l’implémenter."
   ]
  },
  {
   "cell_type": "markdown",
   "id": "bc5462cf",
   "metadata": {},
   "source": [
    "***\n",
    "**REPONSE**\n",
    "\n",
    "\n",
    "***"
   ]
  }
 ],
 "metadata": {
  "kernelspec": {
   "display_name": "base",
   "language": "python",
   "name": "python3"
  },
  "language_info": {
   "codemirror_mode": {
    "name": "ipython",
    "version": 3
   },
   "file_extension": ".py",
   "mimetype": "text/x-python",
   "name": "python",
   "nbconvert_exporter": "python",
   "pygments_lexer": "ipython3",
   "version": "3.12.3"
  }
 },
 "nbformat": 4,
 "nbformat_minor": 5
}
